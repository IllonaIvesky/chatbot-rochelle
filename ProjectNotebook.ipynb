{
 "cells": [
  {
   "cell_type": "markdown",
   "metadata": {},
   "source": [
    "# Project Description"
   ]
  },
  {
   "cell_type": "markdown",
   "metadata": {},
   "source": [
    "This is a project based on the chatbot created from assignment 3. Rochelle, the chatbot, is a very chill dude and can proide relaxing conversation to make people less anxious. Rochelle can chat about feelings, places, food, places and movies in English and German. When he doesn't know what to say, he will always give positive comments."
   ]
  },
  {
   "cell_type": "code",
   "execution_count": null,
   "metadata": {},
   "outputs": [],
   "source": [
    "import string\n",
    "import random\n",
    "import nltk\n",
    "\n",
    "from my_module.functionsfromassignment3 import is_question, remove_punctuation, prepare_text, selector,string_concatenator, list_to_string, end_chat, is_in_list, find_in_list, choose_language\n",
    "from my_module.language import english_response, german_response\n",
    "\n"
   ]
  },
  {
   "cell_type": "code",
   "execution_count": null,
   "metadata": {},
   "outputs": [],
   "source": [
    "def choose_language(input_lang):\n",
    "    \n",
    "    if 'eng' in input_lang.lower():\n",
    "        language = 'english_response'\n",
    "        \n",
    "    elif 'ger' in input_lang.lower():\n",
    "        language = 'german_response'\n",
    "        \n",
    "    else: raise ValueError\n",
    "    print('enter a valid language')\n",
    "        \n",
    "    return language\n"
   ]
  },
  {
   "cell_type": "code",
   "execution_count": null,
   "metadata": {},
   "outputs": [],
   "source": [
    "def have_a_chat():\n",
    "    inpu = None\n",
    "    while not inpu == 'quit':\n",
    "        language_input = input('please select a language you want to talk to me with (english or german):')\n",
    "        if 'eng' in language_input.lower():\n",
    "            language = 'english_response'\n",
    "            break\n",
    "        elif 'ger' in language_input.lower():\n",
    "            language = 'german_response'\n",
    "            break\n",
    "        else: print('Please choose from english and german. Type \"quit\" to enter')\n",
    "        continue\n",
    "            \n",
    "    chat = True\n",
    "    while chat:\n",
    "        message = input('INPUT:\\t')\n",
    "        out_message = None\n",
    "        \n",
    "   \n",
    "        question = is_question(message)\n",
    "        message = prepare_text(message)\n",
    "        \n",
    "        if end_chat(message):\n",
    "            out_message = 'Bye!'\n",
    "            chat = False\n",
    "            \n",
    "        if not out_message:\n",
    "            outs = []\n",
    "            \n",
    "            outs.append(selector(message, choose_language['GREETINGS_IN'], choose_language['GREETINGS_OUT']))\n",
    "\n",
    "            outs.append(selector(message, choose_language['GOOD_FEELINGS_IN'], choose_language['GOOD_FEELINGS_OUT']))\n",
    "\n",
    "            outs.append(selector(message, choose_language['BAD_FEELINGS_IN'], choose_language['BAD_FEELINGS_OUT']))\n",
    "\n",
    "            outs.append(selector(message, choose_language['MUSIC_IN'], choose_language['MUSIC_OUT']))\n",
    "\n",
    "            outs.append(selector(message, choose_language['FOOD_IN'], choose_language ['FOOD_OUT']))\n",
    "\n",
    "            outs.append(selector(message, choose_language['PLACES_IN'], choose_language['PLACES_OUT']))\n",
    "            \n",
    "            outs.append(selector(message, choose_language['MOVIES_IN'], choose_language['MOVIES_OUT']))\n",
    "        \n",
    "        if not out_message:\n",
    "            out_message = random.choice(choose_language['UNKNOWN'])\n",
    "            \n",
    "        print('OUTPUT:', out_message)    \n",
    "\n",
    "\n",
    "        \n",
    "have_a_chat()     \n",
    "\n"
   ]
  },
  {
   "cell_type": "code",
   "execution_count": null,
   "metadata": {},
   "outputs": [],
   "source": []
  },
  {
   "cell_type": "code",
   "execution_count": null,
   "metadata": {},
   "outputs": [],
   "source": [
    "\n"
   ]
  },
  {
   "cell_type": "code",
   "execution_count": null,
   "metadata": {},
   "outputs": [],
   "source": []
  },
  {
   "cell_type": "code",
   "execution_count": null,
   "metadata": {},
   "outputs": [],
   "source": []
  },
  {
   "cell_type": "code",
   "execution_count": null,
   "metadata": {},
   "outputs": [],
   "source": []
  },
  {
   "cell_type": "code",
   "execution_count": null,
   "metadata": {},
   "outputs": [],
   "source": []
  }
 ],
 "metadata": {
  "kernelspec": {
   "display_name": "Python 3",
   "language": "python",
   "name": "python3"
  },
  "language_info": {
   "codemirror_mode": {
    "name": "ipython",
    "version": 3
   },
   "file_extension": ".py",
   "mimetype": "text/x-python",
   "name": "python",
   "nbconvert_exporter": "python",
   "pygments_lexer": "ipython3",
   "version": "3.6.7"
  }
 },
 "nbformat": 4,
 "nbformat_minor": 2
}
